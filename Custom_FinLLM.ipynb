{
  "cells": [
    {
      "cell_type": "code",
      "execution_count": 4,
      "metadata": {
        "id": "SK5xaqkjZxIw"
      },
      "outputs": [],
      "source": [
        "import pandas as pd\n",
        "from datasets import load_dataset\n",
        "import torch\n",
        "import torch.nn as nn\n",
        "from torch.nn.utils.rnn import pad_sequence\n",
        "from torch.utils.data import Dataset, DataLoader, random_split\n",
        "from tqdm import tqdm\n",
        "import matplotlib.pyplot as plt\n",
        "import sentencepiece as spm\n",
        "import json\n",
        "import re\n",
        "import seaborn as sns\n",
        "import math\n",
        "from collections import Counter\n",
        "import random\n"
      ]
    },
    {
      "cell_type": "code",
      "execution_count": 5,
      "metadata": {
        "colab": {
          "base_uri": "https://localhost:8080/",
          "height": 73
        },
        "id": "Wz4Fovn8cB01",
        "outputId": "c73b463e-0db5-4709-86f2-2a4d08534d4b"
      },
      "outputs": [
        {
          "output_type": "display_data",
          "data": {
            "text/plain": [
              "<IPython.core.display.HTML object>"
            ],
            "text/html": [
              "\n",
              "     <input type=\"file\" id=\"files-bc563580-287a-4c1f-ba1f-c5df07ba427e\" name=\"files[]\" multiple disabled\n",
              "        style=\"border:none\" />\n",
              "     <output id=\"result-bc563580-287a-4c1f-ba1f-c5df07ba427e\">\n",
              "      Upload widget is only available when the cell has been executed in the\n",
              "      current browser session. Please rerun this cell to enable.\n",
              "      </output>\n",
              "      <script>// Copyright 2017 Google LLC\n",
              "//\n",
              "// Licensed under the Apache License, Version 2.0 (the \"License\");\n",
              "// you may not use this file except in compliance with the License.\n",
              "// You may obtain a copy of the License at\n",
              "//\n",
              "//      http://www.apache.org/licenses/LICENSE-2.0\n",
              "//\n",
              "// Unless required by applicable law or agreed to in writing, software\n",
              "// distributed under the License is distributed on an \"AS IS\" BASIS,\n",
              "// WITHOUT WARRANTIES OR CONDITIONS OF ANY KIND, either express or implied.\n",
              "// See the License for the specific language governing permissions and\n",
              "// limitations under the License.\n",
              "\n",
              "/**\n",
              " * @fileoverview Helpers for google.colab Python module.\n",
              " */\n",
              "(function(scope) {\n",
              "function span(text, styleAttributes = {}) {\n",
              "  const element = document.createElement('span');\n",
              "  element.textContent = text;\n",
              "  for (const key of Object.keys(styleAttributes)) {\n",
              "    element.style[key] = styleAttributes[key];\n",
              "  }\n",
              "  return element;\n",
              "}\n",
              "\n",
              "// Max number of bytes which will be uploaded at a time.\n",
              "const MAX_PAYLOAD_SIZE = 100 * 1024;\n",
              "\n",
              "function _uploadFiles(inputId, outputId) {\n",
              "  const steps = uploadFilesStep(inputId, outputId);\n",
              "  const outputElement = document.getElementById(outputId);\n",
              "  // Cache steps on the outputElement to make it available for the next call\n",
              "  // to uploadFilesContinue from Python.\n",
              "  outputElement.steps = steps;\n",
              "\n",
              "  return _uploadFilesContinue(outputId);\n",
              "}\n",
              "\n",
              "// This is roughly an async generator (not supported in the browser yet),\n",
              "// where there are multiple asynchronous steps and the Python side is going\n",
              "// to poll for completion of each step.\n",
              "// This uses a Promise to block the python side on completion of each step,\n",
              "// then passes the result of the previous step as the input to the next step.\n",
              "function _uploadFilesContinue(outputId) {\n",
              "  const outputElement = document.getElementById(outputId);\n",
              "  const steps = outputElement.steps;\n",
              "\n",
              "  const next = steps.next(outputElement.lastPromiseValue);\n",
              "  return Promise.resolve(next.value.promise).then((value) => {\n",
              "    // Cache the last promise value to make it available to the next\n",
              "    // step of the generator.\n",
              "    outputElement.lastPromiseValue = value;\n",
              "    return next.value.response;\n",
              "  });\n",
              "}\n",
              "\n",
              "/**\n",
              " * Generator function which is called between each async step of the upload\n",
              " * process.\n",
              " * @param {string} inputId Element ID of the input file picker element.\n",
              " * @param {string} outputId Element ID of the output display.\n",
              " * @return {!Iterable<!Object>} Iterable of next steps.\n",
              " */\n",
              "function* uploadFilesStep(inputId, outputId) {\n",
              "  const inputElement = document.getElementById(inputId);\n",
              "  inputElement.disabled = false;\n",
              "\n",
              "  const outputElement = document.getElementById(outputId);\n",
              "  outputElement.innerHTML = '';\n",
              "\n",
              "  const pickedPromise = new Promise((resolve) => {\n",
              "    inputElement.addEventListener('change', (e) => {\n",
              "      resolve(e.target.files);\n",
              "    });\n",
              "  });\n",
              "\n",
              "  const cancel = document.createElement('button');\n",
              "  inputElement.parentElement.appendChild(cancel);\n",
              "  cancel.textContent = 'Cancel upload';\n",
              "  const cancelPromise = new Promise((resolve) => {\n",
              "    cancel.onclick = () => {\n",
              "      resolve(null);\n",
              "    };\n",
              "  });\n",
              "\n",
              "  // Wait for the user to pick the files.\n",
              "  const files = yield {\n",
              "    promise: Promise.race([pickedPromise, cancelPromise]),\n",
              "    response: {\n",
              "      action: 'starting',\n",
              "    }\n",
              "  };\n",
              "\n",
              "  cancel.remove();\n",
              "\n",
              "  // Disable the input element since further picks are not allowed.\n",
              "  inputElement.disabled = true;\n",
              "\n",
              "  if (!files) {\n",
              "    return {\n",
              "      response: {\n",
              "        action: 'complete',\n",
              "      }\n",
              "    };\n",
              "  }\n",
              "\n",
              "  for (const file of files) {\n",
              "    const li = document.createElement('li');\n",
              "    li.append(span(file.name, {fontWeight: 'bold'}));\n",
              "    li.append(span(\n",
              "        `(${file.type || 'n/a'}) - ${file.size} bytes, ` +\n",
              "        `last modified: ${\n",
              "            file.lastModifiedDate ? file.lastModifiedDate.toLocaleDateString() :\n",
              "                                    'n/a'} - `));\n",
              "    const percent = span('0% done');\n",
              "    li.appendChild(percent);\n",
              "\n",
              "    outputElement.appendChild(li);\n",
              "\n",
              "    const fileDataPromise = new Promise((resolve) => {\n",
              "      const reader = new FileReader();\n",
              "      reader.onload = (e) => {\n",
              "        resolve(e.target.result);\n",
              "      };\n",
              "      reader.readAsArrayBuffer(file);\n",
              "    });\n",
              "    // Wait for the data to be ready.\n",
              "    let fileData = yield {\n",
              "      promise: fileDataPromise,\n",
              "      response: {\n",
              "        action: 'continue',\n",
              "      }\n",
              "    };\n",
              "\n",
              "    // Use a chunked sending to avoid message size limits. See b/62115660.\n",
              "    let position = 0;\n",
              "    do {\n",
              "      const length = Math.min(fileData.byteLength - position, MAX_PAYLOAD_SIZE);\n",
              "      const chunk = new Uint8Array(fileData, position, length);\n",
              "      position += length;\n",
              "\n",
              "      const base64 = btoa(String.fromCharCode.apply(null, chunk));\n",
              "      yield {\n",
              "        response: {\n",
              "          action: 'append',\n",
              "          file: file.name,\n",
              "          data: base64,\n",
              "        },\n",
              "      };\n",
              "\n",
              "      let percentDone = fileData.byteLength === 0 ?\n",
              "          100 :\n",
              "          Math.round((position / fileData.byteLength) * 100);\n",
              "      percent.textContent = `${percentDone}% done`;\n",
              "\n",
              "    } while (position < fileData.byteLength);\n",
              "  }\n",
              "\n",
              "  // All done.\n",
              "  yield {\n",
              "    response: {\n",
              "      action: 'complete',\n",
              "    }\n",
              "  };\n",
              "}\n",
              "\n",
              "scope.google = scope.google || {};\n",
              "scope.google.colab = scope.google.colab || {};\n",
              "scope.google.colab._files = {\n",
              "  _uploadFiles,\n",
              "  _uploadFilesContinue,\n",
              "};\n",
              "})(self);\n",
              "</script> "
            ]
          },
          "metadata": {}
        },
        {
          "output_type": "stream",
          "name": "stdout",
          "text": [
            "Saving final_dataset_clean.json to final_dataset_clean.json\n"
          ]
        }
      ],
      "source": [
        "from google.colab import files\n",
        "uploaded = files.upload()"
      ]
    },
    {
      "cell_type": "markdown",
      "metadata": {
        "id": "L79ZgCp8xe1o"
      },
      "source": [
        "Load Dataset and Create Prompts\n",
        "\n",
        "1. Load the cleaned dataset from a JSON file into a Pandas DataFrame.\n",
        "2. Inspect the raw data to verify its structure.\n",
        "3. Construct a **`prompt`** column by combining the `instruction`, `input` (if available), and `output` fields in a structured format.\n",
        "\n",
        "The final `prompt` format:\n"
      ]
    },
    {
      "cell_type": "code",
      "execution_count": 6,
      "metadata": {
        "colab": {
          "base_uri": "https://localhost:8080/"
        },
        "id": "Kwfv2z_UjueY",
        "outputId": "3ebf71a9-16d8-46f7-d265-59cde4c49aee"
      },
      "outputs": [
        {
          "output_type": "stream",
          "name": "stdout",
          "text": [
            "### Instruction:\n",
            "For a car, what scams can be plotted with 0% financing vs rebate?\n",
            "### Response:\n",
            "The car deal makes money 3 ways. If you pay in one lump payment. If the payment is greater than what they paid for the car, plus their expenses, they make a profit. They loan you the money. You make payments over months or years, if the total amount you pay is greater than what they paid for the car, plus their expenses, plus their finance expenses they make money. Of course the money takes years to come in, or they sell your loan to another business to get the money faster but in a smaller amount. You trade in a car and they sell it at a profit. Of course that new transaction could be a lump sum or a loan on the used car... They or course make money if you bring the car back for maintenance, or you buy lots of expensive dealer options. Some dealers wave two deals in front of you: get a 0% interest loan. These tend to be shorter 12 months vs 36,48,60 or even 72 months. The shorter length makes it harder for many to afford. If you can't swing the 12 large payments they offer you at x% loan for y years that keeps the payments in your budget. pay cash and get a rebate. If you take the rebate you can't get the 0% loan. If you take the 0% loan you can't get the rebate. The price you negotiate minus the rebate is enough to make a profit. The key is not letting them know which offer you are interested in. Don't even mention a trade in until the price of the new car has been finalized. Otherwise they will adjust the price, rebate, interest rate, length of loan,  and trade-in value to maximize their profit. The suggestion of running the numbers through a spreadsheet is a good one. If you get a loan for 2% from your bank/credit union for 3 years and the rebate from the dealer, it will cost less in total than the 0% loan from the dealer. The key is to get the loan approved by the bank/credit union before meeting with the dealer. The money from the bank looks like cash to the dealer.\n"
          ]
        }
      ],
      "source": [
        "with open(\"final_dataset_clean.json\", \"r\") as f:\n",
        "    data = json.load(f)\n",
        "\n",
        "df = pd.DataFrame(data)\n",
        "\n",
        "def make_prompt(row):\n",
        "    prompt = f\"### Instruction:\\n{row['instruction']}\\n\"\n",
        "    if row.get(\"input\", \"\").strip():\n",
        "        prompt += f\"### Input:\\n{row['input']}\\n\"\n",
        "    prompt += f\"### Response:\\n{row['output']}\"\n",
        "    return prompt\n",
        "\n",
        "df[\"prompt\"] = df.apply(make_prompt, axis=1)\n",
        "print(df[\"prompt\"].iloc[0])"
      ]
    },
    {
      "cell_type": "markdown",
      "metadata": {
        "id": "6dr_EAjoyBQz"
      },
      "source": [
        "# Clean Data: Remove Duplicates and Non-ASCII Characters\n",
        "\n",
        "In this step, we:\n",
        "1. **Remove duplicated halves** from the `output` column (cases where the response text was repeated twice).\n",
        "2. **Rebuild the `prompt` column** using the cleaned `instruction`, `input`, and `output` fields.\n",
        "3. **Create the `combined` column** as the finalized text sample for the pipeline.\n",
        "4. **Remove duplicate rows** to avoid biasing the tokenizer.\n",
        "5. **Remove non-ASCII characters** (e.g., emojis, special symbols) to standardize the dataset.\n",
        "\n",
        "Finally, we re-check the dataset quality by printing:\n",
        "- Empty rows count\n",
        "- Duplicate rows count\n",
        "- Rows still containing non-ASCII characters\n"
      ]
    },
    {
      "cell_type": "code",
      "execution_count": 7,
      "metadata": {
        "colab": {
          "base_uri": "https://localhost:8080/"
        },
        "id": "Nblpx_5TZxIx",
        "outputId": "9d28d40c-76dd-474b-b655-ef404fb1e80c"
      },
      "outputs": [
        {
          "output_type": "stream",
          "name": "stdout",
          "text": [
            "Empty rows: 0\n",
            "Duplicate rows: 0\n",
            "Rows with non-ASCII characters: 0\n"
          ]
        }
      ],
      "source": [
        "def remove_duplicated_half(text):\n",
        "    half = len(text) // 2\n",
        "    if text[:half] == text[half:]:\n",
        "        return text[:half]\n",
        "    return text\n",
        "\n",
        "df[\"output\"] = df[\"output\"].fillna(\"\").apply(remove_duplicated_half)\n",
        "\n",
        "def make_prompt(row):\n",
        "    prompt = f\"### Instruction:\\n{row['instruction'].strip()}\\n\"\n",
        "    if row.get(\"input\", \"\").strip():\n",
        "        prompt += f\"### Input:\\n{row['input'].strip()}\\n\"\n",
        "    prompt += f\"### Response:\\n{row['output'].strip()}\"\n",
        "    return prompt\n",
        "\n",
        "df[\"prompt\"] = df.apply(make_prompt, axis=1)\n",
        "df[\"combined\"] = df[\"prompt\"]\n",
        "\n",
        "df = df.drop_duplicates(subset=[\"combined\"]).reset_index(drop=True)\n",
        "df[\"combined\"] = df[\"combined\"].apply(lambda x: re.sub(r\"[^\\x00-\\x7F]+\", \" \", x))\n",
        "\n",
        "empty_count = (df[\"combined\"].str.strip() == \"\").sum()\n",
        "duplicate_count = df[\"combined\"].duplicated().sum()\n",
        "non_ascii_count = df[\"combined\"].str.contains(r\"[^\\x00-\\x7F]\").sum()\n",
        "\n",
        "print(f\"Empty rows: {empty_count}\")\n",
        "print(f\"Duplicate rows: {duplicate_count}\")\n",
        "print(f\"Rows with non-ASCII characters: {non_ascii_count}\")\n"
      ]
    },
    {
      "cell_type": "markdown",
      "metadata": {
        "id": "8DERd5wcy3k8"
      },
      "source": [
        "## Word Length Distribution (Pre-Tokenization)\n",
        "\n",
        "Analyzing **word length** (number of whitespace-separated words) provides a more realistic understanding of text size compared to character length. This step is important because:\n",
        "\n",
        "1. **Represents meaningful content:** Words are closer to the actual units of meaning the tokenizer will split into (subwords or tokens).  \n",
        "2. **Helps set `max_len`:** Word count gives a better sense of how long sequences will be after tokenization, guiding the choice of padding/truncation length.  \n",
        "3. **Identifies outliers:** Extremely long or short samples can be spotted, which may need special handling.  \n",
        "\n",
        "By understanding the distribution of word counts, we can avoid excessive truncation or padding, which helps maintain training efficiency and quality.\n"
      ]
    },
    {
      "cell_type": "code",
      "execution_count": 8,
      "metadata": {
        "colab": {
          "base_uri": "https://localhost:8080/",
          "height": 653
        },
        "id": "FVvosiliy0Ei",
        "outputId": "07a0855e-a07d-44f6-e98c-c12deb5dd2a3"
      },
      "outputs": [
        {
          "output_type": "stream",
          "name": "stdout",
          "text": [
            "\n",
            "Word length stats (pre-tokenization):\n",
            "count    44217.000000\n",
            "mean       114.485831\n",
            "std        125.824713\n",
            "min          9.000000\n",
            "25%         36.000000\n",
            "50%         77.000000\n",
            "75%        138.000000\n",
            "max       2998.000000\n",
            "Name: combined, dtype: float64\n",
            "90th percentile: 251.0 words\n",
            "95th percentile: 351.0 words\n",
            "99th percentile: 618.0 words\n"
          ]
        },
        {
          "output_type": "display_data",
          "data": {
            "text/plain": [
              "<Figure size 800x400 with 1 Axes>"
            ],
            "image/png": "[encoded data removed]"
          },
          "metadata": {}
        }
      ],
      "source": [
        "word_lengths = df[\"combined\"].apply(lambda x: len(x.split()))\n",
        "print(\"\\nWord length stats (pre-tokenization):\")\n",
        "print(word_lengths.describe())\n",
        "percentiles = [0.90, 0.95, 0.99]\n",
        "for p in percentiles:\n",
        "    print(f\"{int(p*100)}th percentile: {word_lengths.quantile(p)} words\")\n",
        "\n",
        "\n",
        "plt.figure(figsize=(8,4))\n",
        "plt.hist(word_lengths, bins=50, color=\"purple\", edgecolor=\"black\")\n",
        "plt.title(\"Word Length Distribution (Pre-Tokenization)\")\n",
        "plt.xlabel(\"Word Count\")\n",
        "plt.ylabel(\"Frequency\")\n",
        "plt.show()\n"
      ]
    },
    {
      "cell_type": "markdown",
      "metadata": {
        "id": "wZW5Lov916aW"
      },
      "source": [
        "## Choosing the `max_len` for Padding & Truncation\n",
        "\n",
        "### Word Length Analysis (Pre-Tokenization)\n",
        "\n",
        "- **Median (50th percentile):** 77 words  \n",
        "- **75th percentile:** 138 words  \n",
        "- **90th percentile:** 251 words  \n",
        "- **95th percentile:** 351 words  \n",
        "- **99th percentile:** 618 words  \n",
        "- **Maximum:** 2,998 words  \n",
        "\n",
        "### Insights\n",
        "\n",
        "- Most samples are relatively short (median = 77 words), but there are extreme outliers with up to 2,998 words.\n",
        "- Padding to the maximum length would be inefficient and waste memory because the majority of sequences are much shorter.\n",
        "- Setting the `max_len` too low (e.g., at the 75th percentile = 138 words) would truncate too many longer samples.\n",
        "\n",
        "### Decision\n",
        "\n",
        "- We will set **`max_len = 350 tokens`**, which corresponds roughly to the **95th percentile**.  \n",
        "- This ensures:\n",
        "  1. **95% of the dataset is preserved in full** without truncation.\n",
        "  2. Memory and computation are optimized by not padding excessively for the rare, extremely long samples (> 600 words).\n",
        "\n",
        "Samples longer than 350 tokens will be truncated, while shorter samples will be padded up to this length.\n"
      ]
    },
    {
      "cell_type": "markdown",
      "metadata": {
        "id": "l9ZCuGWP2nx-"
      },
      "source": [
        "## Tokenizer Training and Data Preparation\n",
        "\n",
        "In this step, we:\n",
        "\n",
        "1. **Save the cleaned prompt data** to a text file for tokenizer training.\n",
        "2. **Train a BPE SentencePiece tokenizer** with a vocabulary size of `32,000`.\n",
        "3. **Load the trained tokenizer** and extract the special token IDs (`pad`, `eos`).\n",
        "4. **Tokenize and pad** each sample:\n",
        "   - Truncate sequences to `max_len - 1` tokens.\n",
        "   - Add the `eos` token.\n",
        "   - Pad with the `pad` token if shorter than `max_len`.\n",
        "5. **Convert the padded sequences** into a PyTorch tensor (`padded_dataset`) for downstream model training.\n",
        "\n",
        "This ensures that all samples have a consistent length of `max_len = 350` tokens, ready for batching and training.\n"
      ]
    },
    {
      "cell_type": "code",
      "execution_count": 9,
      "metadata": {
        "id": "5RCfD4cm3Jp7"
      },
      "outputs": [],
      "source": [
        "df[\"combined\"] = df[\"combined\"].str.strip()\n",
        "df[\"combined\"].to_csv(\"train_text.txt\", index=False, header=False)\n",
        "\n",
        "spm.SentencePieceTrainer.train(\n",
        "    input=\"train_text.txt\",\n",
        "    model_prefix=\"bpe_tokenizer\",\n",
        "    vocab_size=32000,\n",
        "    model_type=\"bpe\",\n",
        "    pad_id=0, unk_id=1, bos_id=2, eos_id=3\n",
        ")\n",
        "\n",
        "sp = spm.SentencePieceProcessor(model_file=\"bpe_tokenizer.model\")\n",
        "pad_id = sp.pad_id()\n",
        "eos_id = sp.eos_id()\n",
        "\n",
        "df[\"token_ids\"] = df[\"combined\"].apply(lambda x: sp.encode(x, out_type=int))\n",
        "max_len = 350\n",
        "df[\"padded_ids\"] = df[\"token_ids\"].apply(\n",
        "    lambda x: x[:max_len - 1] + [eos_id] + [pad_id] * max(0, max_len - len(x) - 1)\n",
        ")\n",
        "\n",
        "padded_dataset = torch.tensor(df[\"padded_ids\"].tolist(), dtype=torch.long)\n"
      ]
    },
    {
      "cell_type": "markdown",
      "metadata": {
        "id": "Ec3b5JVC48kp"
      },
      "source": [
        "## Vocabulary Size Evaluation\n",
        "\n",
        "A good vocabulary size should:\n",
        "1. Minimize the number of `<unk>` (unknown) tokens.\n",
        "2. Avoid having too many tokens that appear only once (rare tokens).\n",
        "\n",
        "### Metrics to check:\n",
        "- **UNK ratio**: Percentage of tokens replaced by `<unk>`.\n",
        "  - If `<unk>` ratio > 5%, the vocab size may be too small.\n",
        "- **Rare token ratio**: Percentage of vocabulary tokens that appear only once.\n",
        "  - If > 40%, the vocab size may be too large (wasting capacity).\n",
        "\n",
        "### Interpretation:\n",
        "- High UNK ratio → increase `vocab_size`.\n",
        "- High rare token ratio → decrease `vocab_size`.\n",
        "- If both are low, the current vocab size (32,000) is likely balanced for the dataset.\n"
      ]
    },
    {
      "cell_type": "code",
      "execution_count": 10,
      "metadata": {
        "colab": {
          "base_uri": "https://localhost:8080/"
        },
        "id": "SpFCRjGC4tzQ",
        "outputId": "ca6bfd19-4af4-4119-a19b-4dd327f2b49d"
      },
      "outputs": [
        {
          "output_type": "stream",
          "name": "stdout",
          "text": [
            "UNK token ratio: 0.21%\n",
            "Rare token ratio: 2.11% of vocab appears only once\n",
            "Current vocab size looks balanced.\n"
          ]
        }
      ],
      "source": [
        "unk_id = sp.unk_id()\n",
        "total_tokens = 0\n",
        "unk_tokens = 0\n",
        "for tokens in df[\"token_ids\"]:\n",
        "    total_tokens += len(tokens)\n",
        "    unk_tokens += sum(1 for t in tokens if t == unk_id)\n",
        "\n",
        "unk_ratio = (unk_tokens / total_tokens) * 100\n",
        "print(f\"UNK token ratio: {unk_ratio:.2f}%\")\n",
        "\n",
        "all_tokens = [t for seq in df[\"token_ids\"] for t in seq]\n",
        "token_freq = Counter(all_tokens)\n",
        "\n",
        "rare_tokens = sum(1 for count in token_freq.values() if count == 1)\n",
        "rare_ratio = (rare_tokens / len(token_freq)) * 100\n",
        "print(f\"Rare token ratio: {rare_ratio:.2f}% of vocab appears only once\")\n",
        "\n",
        "if unk_ratio > 5:\n",
        "    print(\"UNK ratio is high: consider increasing vocab size.\")\n",
        "elif rare_ratio > 40:\n",
        "    print(\"Many rare tokens: consider decreasing vocab size.\")\n",
        "else:\n",
        "    print(\"Current vocab size looks balanced.\")\n"
      ]
    },
    {
      "cell_type": "markdown",
      "metadata": {
        "id": "haQE4fkc3N5f"
      },
      "source": [
        "## Post-Tokenization Sequence Length Analysis\n",
        "\n",
        "After tokenization, it is important to confirm that the chosen `max_len` captures most of the data without excessive truncation.\n",
        "\n",
        "### What we analyze:\n",
        "1. Sequence length distribution (histogram of tokenized sequence lengths).\n",
        "2. Percentiles (90th, 95th, 99th) to understand where most data lies.\n",
        "3. Truncation percentage – the percentage of sequences exceeding `max_len`.\n",
        "\n",
        "### How to interpret:\n",
        "- If less than ~5% of sequences are truncated, the chosen `max_len` is appropriate.\n",
        "- If a large percentage is truncated, consider increasing `max_len` or investigating long samples.\n",
        "- If most sequences are very short compared to `max_len`, you might be padding too much and can reduce it.\n",
        "\n",
        "This ensures that the padding/truncation strategy is both memory-efficient and preserves the majority of data.\n"
      ]
    },
    {
      "cell_type": "code",
      "execution_count": 11,
      "metadata": {
        "colab": {
          "base_uri": "https://localhost:8080/",
          "height": 694
        },
        "id": "9Gvhi3Q-2qcy",
        "outputId": "e2fceac6-a0be-40e5-cc9d-6519c48dbe69"
      },
      "outputs": [
        {
          "output_type": "display_data",
          "data": {
            "text/plain": [
              "<Figure size 1000x600 with 1 Axes>"
            ],
            "image/png": "[encoded data removed]"
          },
          "metadata": {}
        },
        {
          "output_type": "stream",
          "name": "stdout",
          "text": [
            "90th percentile: 301.0 tokens\n",
            "95th percentile: 420.0 tokens\n",
            "99th percentile: 735.8399999999965 tokens\n",
            "\n",
            "7.40% of sequences exceed max_len = 350\n"
          ]
        }
      ],
      "source": [
        "df[\"seq_len\"] = df[\"token_ids\"].apply(len)\n",
        "\n",
        "plt.figure(figsize=(10, 6))\n",
        "sns.histplot(df[\"seq_len\"], bins=100, kde=True, color=\"seagreen\")\n",
        "plt.axvline(max_len, color=\"red\", linestyle=\"--\", label=f\"max_len = {max_len}\")\n",
        "plt.title(\"Distribution of Token Sequence Lengths\")\n",
        "plt.xlabel(\"Sequence Length\")\n",
        "plt.ylabel(\"Frequency\")\n",
        "plt.legend()\n",
        "plt.grid(True)\n",
        "plt.tight_layout()\n",
        "plt.show()\n",
        "\n",
        "for p in [0.90, 0.95, 0.99]:\n",
        "    print(f\"{int(p*100)}th percentile: {df['seq_len'].quantile(p)} tokens\")\n",
        "\n",
        "truncated_pct = (df[\"seq_len\"] > max_len).mean() * 100\n",
        "print(f\"\\n{truncated_pct:.2f}% of sequences exceed max_len = {max_len}\")\n"
      ]
    },
    {
      "cell_type": "markdown",
      "metadata": {
        "id": "kQ1rNSnc3lrZ"
      },
      "source": [
        "The histogram above shows the **distribution of tokenized sequence lengths** across the dataset. The red dashed line marks the chosen `max_len = 350` tokens.\n",
        "\n",
        "### Truncation:\n",
        "- **7.4% of sequences exceed `max_len = 350`** and will be truncated.\n",
        "\n",
        "### Insights:\n",
        "- Most sequences are well below `max_len = 350` (90% ≤ 301 tokens).\n",
        "- Sequences longer than 350 tokens are rare (only 7% of the data).\n",
        "\n",
        "### Decision:\n",
        "- Keep `max_len = 350` for efficiency"
      ]
    },
    {
      "cell_type": "markdown",
      "metadata": {
        "id": "j19qT3YK4KSu"
      },
      "source": [
        "## FinGPTDataset: Preparing Inputs and Targets for Language Modeling\n",
        "\n",
        "The `FinGPTDataset` class is a custom PyTorch `Dataset` that prepares the input (`x`) and target (`y`) sequences for training a language model.\n",
        "\n",
        "### How it works:\n",
        "1. **Input (`x`)**: All tokens except the last one in each sequence (`tensor_data[:, :-1]`).\n",
        "2. **Target (`y`)**: All tokens except the first one in each sequence (`tensor_data[:, 1:]`).\n",
        "\n",
        "This shifting mechanism ensures that the model learns to **predict the next token** at each step.\n",
        "\n",
        "### Key Components:\n",
        "- `__len__`: Returns the number of samples in the dataset.\n",
        "- `__getitem__`: Returns a tuple `(x[idx], y[idx])` for the given index.\n",
        "\n",
        "### Why this design?\n",
        "- This structure is standard for **causal language modeling** (e.g., GPT-style models), where the model learns a probability distribution over the next token given the previous tokens.\n"
      ]
    },
    {
      "cell_type": "code",
      "execution_count": 12,
      "metadata": {
        "id": "W04-q4SlZxIy"
      },
      "outputs": [],
      "source": [
        "class FinGPTDataset(Dataset):\n",
        "    def __init__(self, tensor_data, pad_id):\n",
        "        self.x = tensor_data[:, :-1]\n",
        "        self.y = tensor_data[:, 1:]\n",
        "\n",
        "\n",
        "    def __len__(self):\n",
        "        return len(self.x)\n",
        "\n",
        "    def __getitem__(self, idx):\n",
        "        return self.x[idx], self.y[idx]"
      ]
    },
    {
      "cell_type": "markdown",
      "metadata": {
        "id": "MRnbOKuR5jPz"
      },
      "source": [
        "## Transformer Language Model (LLM)\n",
        "\n",
        "This model implements a GPT-style causal language model using a transformer encoder stack.\n",
        "\n",
        "### Key Components:\n",
        "1. **SinusoidalPositionalEncoding**  \n",
        "   Adds deterministic sinusoidal position information to token embeddings.\n",
        "\n",
        "2. **TokenPositionEmbedding**  \n",
        "   Combines token embeddings with positional encodings, followed by LayerNorm and dropout for stability.\n",
        "\n",
        "3. **TransformerLLM**  \n",
        "   - Embedding dimension: `256`\n",
        "   - Number of attention heads: `4`\n",
        "   - Number of layers: `4`\n",
        "   - Feed-forward dimension: `512`\n",
        "   - Dropout: `0.1`\n",
        "   - Activation: **GELU** for smoother non-linearity\n",
        "\n",
        "### Forward Pass:\n",
        "- Input `x` is tokenized text of shape `(batch_size, seq_len)`\n",
        "- Token + positional embeddings → LayerNorm → TransformerEncoder stack\n",
        "- Final linear layer projects hidden states to vocabulary logits `(batch_size, seq_len, vocab_size)`\n",
        "\n",
        "### Improvements for Robustness:\n",
        "- Increased embedding and feed-forward dimensions for better capacity.\n",
        "- Added **LayerNorm** to embeddings for improved training stability.\n",
        "- Used **GELU** activation for better performance than ReLU.\n",
        "- Configurable padding index to properly handle `<pad>` tokens.\n"
      ]
    },
    {
      "cell_type": "code",
      "execution_count": 13,
      "metadata": {
        "id": "hJcScijmZxIy"
      },
      "outputs": [],
      "source": [
        "class SinusoidalPositionalEncoding(nn.Module):\n",
        "    def __init__(self, dim, max_len=1000):\n",
        "        super().__init__()\n",
        "        pe = torch.zeros(max_len, dim)\n",
        "        position = torch.arange(0, max_len).unsqueeze(1)\n",
        "        div_term = torch.exp(torch.arange(0, dim, 2) * (-math.log(10000.0) / dim))\n",
        "        pe[:, 0::2] = torch.sin(position * div_term)\n",
        "        pe[:, 1::2] = torch.cos(position * div_term)\n",
        "        self.register_buffer('pe', pe.unsqueeze(0))\n",
        "\n",
        "    def forward(self, x):\n",
        "        return self.pe[:, :x.size(1)]\n",
        "\n",
        "\n",
        "class TokenPositionEmbedding(nn.Module):\n",
        "    def __init__(self, vocab_size, embed_dim, max_len):\n",
        "        super().__init__()\n",
        "        self.token_embedding = nn.Embedding(vocab_size, embed_dim, padding_idx=0)\n",
        "        self.positional_encoding = SinusoidalPositionalEncoding(embed_dim, max_len)\n",
        "        self.layernorm = nn.LayerNorm(embed_dim)\n",
        "        self.dropout = nn.Dropout(0.1)\n",
        "\n",
        "    def forward(self, x):\n",
        "        tok = self.token_embedding(x)\n",
        "        pos = self.positional_encoding(x)\n",
        "        return self.dropout(self.layernorm(tok + pos))\n",
        "\n",
        "\n",
        "class TransformerLLM(nn.Module):\n",
        "    def __init__(self, vocab_size, embedding_dim=256, num_heads=4, num_layers=4, ff_dim=512, max_len=350, dropout=0.1):\n",
        "        super().__init__()\n",
        "        self.embed = TokenPositionEmbedding(vocab_size, embedding_dim, max_len)\n",
        "\n",
        "        encoder_layer = nn.TransformerEncoderLayer(\n",
        "            d_model=embedding_dim,\n",
        "            nhead=num_heads,\n",
        "            dim_feedforward=ff_dim,\n",
        "            dropout=dropout,\n",
        "            batch_first=True,\n",
        "            activation=\"gelu\"\n",
        "        )\n",
        "\n",
        "        self.transformer = nn.TransformerEncoder(encoder_layer, num_layers=num_layers)\n",
        "        self.norm = nn.LayerNorm(embedding_dim)\n",
        "        self.output = nn.Linear(embedding_dim, vocab_size)\n",
        "\n",
        "    def forward(self, x, attention_mask=None):\n",
        "        x = self.embed(x)\n",
        "        x = self.norm(x)\n",
        "        if attention_mask is not None:\n",
        "            x = self.transformer(x, src_key_padding_mask=attention_mask)\n",
        "        else:\n",
        "            x = self.transformer(x)\n",
        "        return self.output(x)\n"
      ]
    },
    {
      "cell_type": "markdown",
      "metadata": {
        "id": "MNZQ_f08548c"
      },
      "source": [
        "## LLMTrainer: Training and Evaluation Class\n",
        "\n",
        "The `LLMTrainer` class is responsible for managing the entire training loop of the language model.\n",
        "\n",
        "### Key Features:\n",
        "1. **Dataset Splitting**  \n",
        "   - Splits the dataset into training, validation, and test sets based on given ratios.\n",
        "\n",
        "2. **Dataloaders**  \n",
        "   - Creates train/val/test `DataLoader` objects with shuffling and pinned memory for faster transfers.\n",
        "\n",
        "3. **Loss and Optimizer**  \n",
        "   - Uses `CrossEntropyLoss` with `ignore_index` to handle padding tokens.  \n",
        "   - Uses `AdamW` optimizer for improved weight decay.\n",
        "\n",
        "4. **Training Loop**  \n",
        "   - Implements mixed precision training with `torch.cuda.amp` for performance.  \n",
        "   - Uses gradient clipping (`max_norm=1.0`) to prevent exploding gradients.  \n",
        "   - Tracks validation loss and saves the best model.  \n",
        "   - Early stopping based on validation loss.\n",
        "\n",
        "5. **Evaluation**  \n",
        "   - Separate method for validation/test loss calculation without gradients.\n",
        "\n",
        "### Methods:\n",
        "- `train(epochs, early_stop_patience=4)`  \n",
        "  Trains the model for the specified number of epochs with early stopping.\n",
        "- `evaluate(loader, split=\"Val\")`  \n",
        "  Evaluates the model on a given dataloader.\n",
        "- `test()`  \n",
        "  Runs the evaluation on the test dataset.\n",
        "\n",
        "This design ensures a **clean, scalable, and fault-tolerant training process** for transformer-based language models.\n"
      ]
    },
    {
      "cell_type": "code",
      "execution_count": 14,
      "metadata": {
        "id": "kfSxMn4hZxIy"
      },
      "outputs": [],
      "source": [
        "class LLMTrainer:\n",
        "    def __init__(self, model, dataset, pad_id, batch_size=128, lr=3e-4, val_ratio=0.1, test_ratio=0.1):\n",
        "        self.device = torch.device(\"cuda\" if torch.cuda.is_available() else \"cpu\")\n",
        "        self.model = model.to(self.device)\n",
        "\n",
        "        val_len = int(len(dataset) * val_ratio)\n",
        "        test_len = int(len(dataset) * test_ratio)\n",
        "        train_len = len(dataset) - val_len - test_len\n",
        "        self.train_set, self.val_set, self.test_set = random_split(dataset, [train_len, val_len, test_len])\n",
        "\n",
        "        self.train_loader = DataLoader(self.train_set, batch_size=batch_size, shuffle=True, pin_memory=True)\n",
        "        self.val_loader = DataLoader(self.val_set, batch_size=batch_size, pin_memory=True)\n",
        "        self.test_loader = DataLoader(self.test_set, batch_size=batch_size, pin_memory=True)\n",
        "\n",
        "        self.criterion = nn.CrossEntropyLoss(ignore_index=pad_id)\n",
        "        self.optimizer = torch.optim.AdamW(self.model.parameters(), lr=lr)\n",
        "\n",
        "    def train(self, epochs, early_stop_patience=4):\n",
        "        best_val_loss = float(\"inf\")\n",
        "        patience_counter = 0\n",
        "\n",
        "        self.train_losses = []\n",
        "        self.val_losses = []\n",
        "\n",
        "        scaler = torch.cuda.amp.GradScaler()\n",
        "\n",
        "        for epoch in range(epochs):\n",
        "            self.model.train()\n",
        "            total_loss = 0\n",
        "            pbar = tqdm(self.train_loader, desc=f\"Epoch {epoch+1}/{epochs}\")\n",
        "\n",
        "            for x, y in pbar:\n",
        "                x, y = x.to(self.device), y.to(self.device)\n",
        "                self.optimizer.zero_grad()\n",
        "\n",
        "                with torch.cuda.amp.autocast():\n",
        "                    output = self.model(x)\n",
        "                    loss = self.criterion(output.view(-1, output.size(-1)), y.view(-1))\n",
        "\n",
        "                if torch.isnan(loss) or torch.isinf(loss):\n",
        "                    print(\"NaN or Inf in loss detected. Skipping step.\")\n",
        "                    continue\n",
        "\n",
        "                scaler.scale(loss).backward()\n",
        "                torch.nn.utils.clip_grad_norm_(self.model.parameters(), max_norm=1.0)\n",
        "                scaler.step(self.optimizer)\n",
        "                scaler.update()\n",
        "\n",
        "                total_loss += loss.item()\n",
        "                pbar.set_postfix(loss=loss.item())\n",
        "\n",
        "            avg_train_loss = total_loss / len(self.train_loader)\n",
        "            self.train_losses.append(avg_train_loss)\n",
        "            print(f\"[Epoch {epoch+1}] Avg Train Loss: {avg_train_loss:.4f}\")\n",
        "\n",
        "            val_loss = self.evaluate(self.val_loader, split=\"Val\")\n",
        "            self.val_losses.append(val_loss)\n",
        "\n",
        "            if val_loss < best_val_loss:\n",
        "                best_val_loss = val_loss\n",
        "                patience_counter = 0\n",
        "                torch.save(self.model.state_dict(), \"Custom_LLM_Model.pt\")\n",
        "            else:\n",
        "                patience_counter += 1\n",
        "                print(f\"[Early Stop] Patience {patience_counter}/{early_stop_patience}\")\n",
        "                if patience_counter >= early_stop_patience:\n",
        "                    print(\"Early stopping triggered.\")\n",
        "                    break\n",
        "\n",
        "        self.model.load_state_dict(torch.load(\"Custom_LLM_Model.pt\"))\n",
        "\n",
        "    def evaluate(self, loader, split=\"Val\"):\n",
        "        self.model.eval()\n",
        "        total_loss = 0\n",
        "        with torch.no_grad():\n",
        "            for x, y in loader:\n",
        "                x, y = x.to(self.device), y.to(self.device)\n",
        "                output = self.model(x)\n",
        "                loss = self.criterion(output.view(-1, output.size(-1)), y.view(-1))\n",
        "                total_loss += loss.item()\n",
        "        avg_loss = total_loss / len(loader)\n",
        "        print(f\"[{split}] Loss: {avg_loss:.4f}\")\n",
        "        return avg_loss\n",
        "\n",
        "    def test(self):\n",
        "        return self.evaluate(self.test_loader, split=\"Test\")\n"
      ]
    },
    {
      "cell_type": "code",
      "execution_count": 25,
      "metadata": {
        "colab": {
          "base_uri": "https://localhost:8080/"
        },
        "id": "3_tTdxJEUfvd",
        "outputId": "b7a08d37-6a61-4983-a930-68659dfa2557"
      },
      "outputs": [
        {
          "output_type": "stream",
          "name": "stderr",
          "text": [
            "/tmp/ipython-input-3032901742.py:25: FutureWarning: `torch.cuda.amp.GradScaler(args...)` is deprecated. Please use `torch.amp.GradScaler('cuda', args...)` instead.\n",
            "  scaler = torch.cuda.amp.GradScaler()\n",
            "Epoch 1/40:   0%|          | 0/1106 [00:00<?, ?it/s]/tmp/ipython-input-3032901742.py:36: FutureWarning: `torch.cuda.amp.autocast(args...)` is deprecated. Please use `torch.amp.autocast('cuda', args...)` instead.\n",
            "  with torch.cuda.amp.autocast():\n",
            "Epoch 1/40: 100%|██████████| 1106/1106 [00:26<00:00, 41.22it/s, loss=5.67]\n"
          ]
        },
        {
          "output_type": "stream",
          "name": "stdout",
          "text": [
            "[Epoch 1] Avg Train Loss: 6.3764\n",
            "[Val] Loss: 5.6394\n"
          ]
        },
        {
          "output_type": "stream",
          "name": "stderr",
          "text": [
            "Epoch 2/40: 100%|██████████| 1106/1106 [00:26<00:00, 41.25it/s, loss=4.84]\n"
          ]
        },
        {
          "output_type": "stream",
          "name": "stdout",
          "text": [
            "[Epoch 2] Avg Train Loss: 5.3416\n",
            "[Val] Loss: 4.8006\n"
          ]
        },
        {
          "output_type": "stream",
          "name": "stderr",
          "text": [
            "Epoch 3/40: 100%|██████████| 1106/1106 [00:26<00:00, 41.37it/s, loss=4.12]\n"
          ]
        },
        {
          "output_type": "stream",
          "name": "stdout",
          "text": [
            "[Epoch 3] Avg Train Loss: 4.5899\n",
            "[Val] Loss: 3.8512\n"
          ]
        },
        {
          "output_type": "stream",
          "name": "stderr",
          "text": [
            "Epoch 4/40: 100%|██████████| 1106/1106 [00:26<00:00, 41.31it/s, loss=3.9]\n"
          ]
        },
        {
          "output_type": "stream",
          "name": "stdout",
          "text": [
            "[Epoch 4] Avg Train Loss: 3.7381\n",
            "[Val] Loss: 3.0088\n"
          ]
        },
        {
          "output_type": "stream",
          "name": "stderr",
          "text": [
            "Epoch 5/40: 100%|██████████| 1106/1106 [00:26<00:00, 41.37it/s, loss=2.65]\n"
          ]
        },
        {
          "output_type": "stream",
          "name": "stdout",
          "text": [
            "[Epoch 5] Avg Train Loss: 3.1669\n",
            "[Val] Loss: 2.4929\n"
          ]
        },
        {
          "output_type": "stream",
          "name": "stderr",
          "text": [
            "Epoch 6/40: 100%|██████████| 1106/1106 [00:26<00:00, 41.38it/s, loss=2.5]\n"
          ]
        },
        {
          "output_type": "stream",
          "name": "stdout",
          "text": [
            "[Epoch 6] Avg Train Loss: 2.7336\n",
            "[Val] Loss: 2.1693\n"
          ]
        },
        {
          "output_type": "stream",
          "name": "stderr",
          "text": [
            "Epoch 7/40: 100%|██████████| 1106/1106 [00:26<00:00, 41.29it/s, loss=2.66]\n"
          ]
        },
        {
          "output_type": "stream",
          "name": "stdout",
          "text": [
            "[Epoch 7] Avg Train Loss: 2.4978\n",
            "[Val] Loss: 1.9710\n"
          ]
        },
        {
          "output_type": "stream",
          "name": "stderr",
          "text": [
            "Epoch 8/40: 100%|██████████| 1106/1106 [00:26<00:00, 41.37it/s, loss=1.95]\n"
          ]
        },
        {
          "output_type": "stream",
          "name": "stdout",
          "text": [
            "[Epoch 8] Avg Train Loss: 2.3259\n",
            "[Val] Loss: 1.8600\n"
          ]
        },
        {
          "output_type": "stream",
          "name": "stderr",
          "text": [
            "Epoch 9/40: 100%|██████████| 1106/1106 [00:26<00:00, 41.33it/s, loss=2.23]\n"
          ]
        },
        {
          "output_type": "stream",
          "name": "stdout",
          "text": [
            "[Epoch 9] Avg Train Loss: 2.2275\n",
            "[Val] Loss: 1.7761\n"
          ]
        },
        {
          "output_type": "stream",
          "name": "stderr",
          "text": [
            "Epoch 10/40: 100%|██████████| 1106/1106 [00:26<00:00, 41.34it/s, loss=1.72]\n"
          ]
        },
        {
          "output_type": "stream",
          "name": "stdout",
          "text": [
            "[Epoch 10] Avg Train Loss: 2.1442\n",
            "[Val] Loss: 1.7059\n"
          ]
        },
        {
          "output_type": "stream",
          "name": "stderr",
          "text": [
            "Epoch 11/40: 100%|██████████| 1106/1106 [00:26<00:00, 41.32it/s, loss=2.15]\n"
          ]
        },
        {
          "output_type": "stream",
          "name": "stdout",
          "text": [
            "[Epoch 11] Avg Train Loss: 2.0613\n",
            "[Val] Loss: 1.6326\n"
          ]
        },
        {
          "output_type": "stream",
          "name": "stderr",
          "text": [
            "Epoch 12/40: 100%|██████████| 1106/1106 [00:26<00:00, 41.40it/s, loss=2.06]\n"
          ]
        },
        {
          "output_type": "stream",
          "name": "stdout",
          "text": [
            "[Epoch 12] Avg Train Loss: 1.9848\n",
            "[Val] Loss: 1.5685\n"
          ]
        },
        {
          "output_type": "stream",
          "name": "stderr",
          "text": [
            "Epoch 13/40: 100%|██████████| 1106/1106 [00:26<00:00, 41.31it/s, loss=1.75]\n"
          ]
        },
        {
          "output_type": "stream",
          "name": "stdout",
          "text": [
            "[Epoch 13] Avg Train Loss: 1.9095\n",
            "[Val] Loss: 1.5060\n"
          ]
        },
        {
          "output_type": "stream",
          "name": "stderr",
          "text": [
            "Epoch 14/40: 100%|██████████| 1106/1106 [00:26<00:00, 41.34it/s, loss=1.51]\n"
          ]
        },
        {
          "output_type": "stream",
          "name": "stdout",
          "text": [
            "[Epoch 14] Avg Train Loss: 1.8456\n",
            "[Val] Loss: 1.4570\n"
          ]
        },
        {
          "output_type": "stream",
          "name": "stderr",
          "text": [
            "Epoch 15/40: 100%|██████████| 1106/1106 [00:26<00:00, 41.29it/s, loss=1.47]\n"
          ]
        },
        {
          "output_type": "stream",
          "name": "stdout",
          "text": [
            "[Epoch 15] Avg Train Loss: 1.7827\n",
            "[Val] Loss: 1.3994\n"
          ]
        },
        {
          "output_type": "stream",
          "name": "stderr",
          "text": [
            "Epoch 16/40: 100%|██████████| 1106/1106 [00:26<00:00, 41.29it/s, loss=1.46]\n"
          ]
        },
        {
          "output_type": "stream",
          "name": "stdout",
          "text": [
            "[Epoch 16] Avg Train Loss: 1.7209\n",
            "[Val] Loss: 1.3479\n"
          ]
        },
        {
          "output_type": "stream",
          "name": "stderr",
          "text": [
            "Epoch 17/40: 100%|██████████| 1106/1106 [00:26<00:00, 41.32it/s, loss=1.74]\n"
          ]
        },
        {
          "output_type": "stream",
          "name": "stdout",
          "text": [
            "[Epoch 17] Avg Train Loss: 1.6611\n",
            "[Val] Loss: 1.2987\n"
          ]
        },
        {
          "output_type": "stream",
          "name": "stderr",
          "text": [
            "Epoch 18/40: 100%|██████████| 1106/1106 [00:26<00:00, 41.33it/s, loss=1.12]\n"
          ]
        },
        {
          "output_type": "stream",
          "name": "stdout",
          "text": [
            "[Epoch 18] Avg Train Loss: 1.6051\n",
            "[Val] Loss: 1.2478\n"
          ]
        },
        {
          "output_type": "stream",
          "name": "stderr",
          "text": [
            "Epoch 19/40: 100%|██████████| 1106/1106 [00:26<00:00, 41.34it/s, loss=1.47]\n"
          ]
        },
        {
          "output_type": "stream",
          "name": "stdout",
          "text": [
            "[Epoch 19] Avg Train Loss: 1.5262\n",
            "[Val] Loss: 1.1656\n"
          ]
        },
        {
          "output_type": "stream",
          "name": "stderr",
          "text": [
            "Epoch 20/40: 100%|██████████| 1106/1106 [00:26<00:00, 41.30it/s, loss=1.38]\n"
          ]
        },
        {
          "output_type": "stream",
          "name": "stdout",
          "text": [
            "[Epoch 20] Avg Train Loss: 1.4358\n",
            "[Val] Loss: 1.1021\n"
          ]
        },
        {
          "output_type": "stream",
          "name": "stderr",
          "text": [
            "Epoch 21/40: 100%|██████████| 1106/1106 [00:26<00:00, 41.27it/s, loss=1.34]\n"
          ]
        },
        {
          "output_type": "stream",
          "name": "stdout",
          "text": [
            "[Epoch 21] Avg Train Loss: 1.3784\n",
            "[Val] Loss: 1.0659\n"
          ]
        },
        {
          "output_type": "stream",
          "name": "stderr",
          "text": [
            "Epoch 22/40: 100%|██████████| 1106/1106 [00:26<00:00, 41.31it/s, loss=1.01]\n"
          ]
        },
        {
          "output_type": "stream",
          "name": "stdout",
          "text": [
            "[Epoch 22] Avg Train Loss: 1.3370\n",
            "[Val] Loss: 1.0363\n"
          ]
        },
        {
          "output_type": "stream",
          "name": "stderr",
          "text": [
            "Epoch 23/40: 100%|██████████| 1106/1106 [00:26<00:00, 41.28it/s, loss=1.06]\n"
          ]
        },
        {
          "output_type": "stream",
          "name": "stdout",
          "text": [
            "[Epoch 23] Avg Train Loss: 1.3013\n",
            "[Val] Loss: 1.0031\n"
          ]
        },
        {
          "output_type": "stream",
          "name": "stderr",
          "text": [
            "Epoch 24/40: 100%|██████████| 1106/1106 [00:26<00:00, 41.29it/s, loss=1.16]\n"
          ]
        },
        {
          "output_type": "stream",
          "name": "stdout",
          "text": [
            "[Epoch 24] Avg Train Loss: 1.2625\n",
            "[Val] Loss: 0.9735\n"
          ]
        },
        {
          "output_type": "stream",
          "name": "stderr",
          "text": [
            "Epoch 25/40: 100%|██████████| 1106/1106 [00:26<00:00, 41.26it/s, loss=1.31]\n"
          ]
        },
        {
          "output_type": "stream",
          "name": "stdout",
          "text": [
            "[Epoch 25] Avg Train Loss: 1.2251\n",
            "[Val] Loss: 0.9422\n"
          ]
        },
        {
          "output_type": "stream",
          "name": "stderr",
          "text": [
            "Epoch 26/40: 100%|██████████| 1106/1106 [00:26<00:00, 41.35it/s, loss=0.74]\n"
          ]
        },
        {
          "output_type": "stream",
          "name": "stdout",
          "text": [
            "[Epoch 26] Avg Train Loss: 1.1900\n",
            "[Val] Loss: 0.9140\n"
          ]
        },
        {
          "output_type": "stream",
          "name": "stderr",
          "text": [
            "Epoch 27/40: 100%|██████████| 1106/1106 [00:26<00:00, 41.26it/s, loss=1.43]\n"
          ]
        },
        {
          "output_type": "stream",
          "name": "stdout",
          "text": [
            "[Epoch 27] Avg Train Loss: 1.1569\n",
            "[Val] Loss: 0.8876\n"
          ]
        },
        {
          "output_type": "stream",
          "name": "stderr",
          "text": [
            "Epoch 28/40: 100%|██████████| 1106/1106 [00:26<00:00, 41.30it/s, loss=1.53]\n"
          ]
        },
        {
          "output_type": "stream",
          "name": "stdout",
          "text": [
            "[Epoch 28] Avg Train Loss: 1.1232\n",
            "[Val] Loss: 0.8608\n"
          ]
        },
        {
          "output_type": "stream",
          "name": "stderr",
          "text": [
            "Epoch 29/40: 100%|██████████| 1106/1106 [00:26<00:00, 41.28it/s, loss=1.14]\n"
          ]
        },
        {
          "output_type": "stream",
          "name": "stdout",
          "text": [
            "[Epoch 29] Avg Train Loss: 1.0897\n",
            "[Val] Loss: 0.8278\n"
          ]
        },
        {
          "output_type": "stream",
          "name": "stderr",
          "text": [
            "Epoch 30/40: 100%|██████████| 1106/1106 [00:26<00:00, 41.23it/s, loss=0.867]\n"
          ]
        },
        {
          "output_type": "stream",
          "name": "stdout",
          "text": [
            "[Epoch 30] Avg Train Loss: 1.0408\n",
            "[Val] Loss: 0.7828\n"
          ]
        },
        {
          "output_type": "stream",
          "name": "stderr",
          "text": [
            "Epoch 31/40: 100%|██████████| 1106/1106 [00:26<00:00, 41.27it/s, loss=0.976]\n"
          ]
        },
        {
          "output_type": "stream",
          "name": "stdout",
          "text": [
            "[Epoch 31] Avg Train Loss: 0.9883\n",
            "[Val] Loss: 0.7483\n"
          ]
        },
        {
          "output_type": "stream",
          "name": "stderr",
          "text": [
            "Epoch 32/40: 100%|██████████| 1106/1106 [00:26<00:00, 41.31it/s, loss=0.864]\n"
          ]
        },
        {
          "output_type": "stream",
          "name": "stdout",
          "text": [
            "[Epoch 32] Avg Train Loss: 0.9570\n",
            "[Val] Loss: 0.7283\n"
          ]
        },
        {
          "output_type": "stream",
          "name": "stderr",
          "text": [
            "Epoch 33/40: 100%|██████████| 1106/1106 [00:26<00:00, 41.27it/s, loss=0.809]\n"
          ]
        },
        {
          "output_type": "stream",
          "name": "stdout",
          "text": [
            "[Epoch 33] Avg Train Loss: 0.9309\n",
            "[Val] Loss: 0.7080\n"
          ]
        },
        {
          "output_type": "stream",
          "name": "stderr",
          "text": [
            "Epoch 34/40: 100%|██████████| 1106/1106 [00:26<00:00, 41.25it/s, loss=0.752]\n"
          ]
        },
        {
          "output_type": "stream",
          "name": "stdout",
          "text": [
            "[Epoch 34] Avg Train Loss: 0.9061\n",
            "[Val] Loss: 0.6887\n"
          ]
        },
        {
          "output_type": "stream",
          "name": "stderr",
          "text": [
            "Epoch 35/40: 100%|██████████| 1106/1106 [00:26<00:00, 41.33it/s, loss=1.1]\n"
          ]
        },
        {
          "output_type": "stream",
          "name": "stdout",
          "text": [
            "[Epoch 35] Avg Train Loss: 0.8818\n",
            "[Val] Loss: 0.6703\n"
          ]
        },
        {
          "output_type": "stream",
          "name": "stderr",
          "text": [
            "Epoch 36/40: 100%|██████████| 1106/1106 [00:26<00:00, 41.29it/s, loss=0.561]\n"
          ]
        },
        {
          "output_type": "stream",
          "name": "stdout",
          "text": [
            "[Epoch 36] Avg Train Loss: 0.8579\n",
            "[Val] Loss: 0.6517\n"
          ]
        },
        {
          "output_type": "stream",
          "name": "stderr",
          "text": [
            "Epoch 37/40: 100%|██████████| 1106/1106 [00:26<00:00, 41.21it/s, loss=1.05]\n"
          ]
        },
        {
          "output_type": "stream",
          "name": "stdout",
          "text": [
            "[Epoch 37] Avg Train Loss: 0.8270\n",
            "[Val] Loss: 0.6175\n"
          ]
        },
        {
          "output_type": "stream",
          "name": "stderr",
          "text": [
            "Epoch 38/40: 100%|██████████| 1106/1106 [00:26<00:00, 41.32it/s, loss=0.803]\n"
          ]
        },
        {
          "output_type": "stream",
          "name": "stdout",
          "text": [
            "[Epoch 38] Avg Train Loss: 0.7874\n",
            "[Val] Loss: 0.5891\n"
          ]
        },
        {
          "output_type": "stream",
          "name": "stderr",
          "text": [
            "Epoch 39/40: 100%|██████████| 1106/1106 [00:26<00:00, 41.25it/s, loss=0.926]\n"
          ]
        },
        {
          "output_type": "stream",
          "name": "stdout",
          "text": [
            "[Epoch 39] Avg Train Loss: 0.7593\n",
            "[Val] Loss: 0.5743\n"
          ]
        },
        {
          "output_type": "stream",
          "name": "stderr",
          "text": [
            "Epoch 40/40: 100%|██████████| 1106/1106 [00:26<00:00, 41.34it/s, loss=0.601]\n"
          ]
        },
        {
          "output_type": "stream",
          "name": "stdout",
          "text": [
            "[Epoch 40] Avg Train Loss: 0.7388\n",
            "[Val] Loss: 0.5599\n"
          ]
        }
      ],
      "source": [
        "dataset = FinGPTDataset(padded_dataset, pad_id=pad_id)\n",
        "vocab_size = sp.get_piece_size()\n",
        "model = TransformerLLM(vocab_size=vocab_size)\n",
        "\n",
        "def plot_losses(self):\n",
        "    plt.figure(figsize=(8, 5))\n",
        "    plt.plot(self.train_losses, label=\"Train Loss\", marker=\"o\")\n",
        "    plt.plot(self.val_losses, label=\"Validation Loss\", marker=\"o\")\n",
        "    plt.xlabel(\"Epoch\")\n",
        "    plt.ylabel(\"Loss\")\n",
        "    plt.title(\"Training vs Validation Loss\")\n",
        "    plt.legend()\n",
        "    plt.grid(True)\n",
        "    plt.show()\n",
        "\n",
        "trainer = LLMTrainer(model, dataset, pad_id, batch_size=32)\n",
        "trainer.train(epochs=40)\n",
        "\n"
      ]
    },
    {
      "cell_type": "code",
      "execution_count": 26,
      "metadata": {
        "colab": {
          "base_uri": "https://localhost:8080/",
          "height": 487
        },
        "id": "lFVTEWl3WdlM",
        "outputId": "024230c3-4a21-47e6-f68d-1b4027c59136"
      },
      "outputs": [
        {
          "output_type": "display_data",
          "data": {
            "text/plain": [
              "<Figure size 800x500 with 1 Axes>"
            ],
            "image/png": "[encoded data removed]"
          },
          "metadata": {}
        }
      ],
      "source": [
        "plot_losses(trainer)"
      ]
    },
    {
      "cell_type": "code",
      "execution_count": 27,
      "metadata": {
        "colab": {
          "base_uri": "https://localhost:8080/",
          "height": 17
        },
        "id": "lXdkP8tJOPIP",
        "outputId": "a17dcd0f-aa04-45de-8cd5-8b71134c3b21"
      },
      "outputs": [
        {
          "output_type": "display_data",
          "data": {
            "text/plain": [
              "<IPython.core.display.Javascript object>"
            ],
            "application/javascript": [
              "\n",
              "    async function download(id, filename, size) {\n",
              "      if (!google.colab.kernel.accessAllowed) {\n",
              "        return;\n",
              "      }\n",
              "      const div = document.createElement('div');\n",
              "      const label = document.createElement('label');\n",
              "      label.textContent = `Downloading \"${filename}\": `;\n",
              "      div.appendChild(label);\n",
              "      const progress = document.createElement('progress');\n",
              "      progress.max = size;\n",
              "      div.appendChild(progress);\n",
              "      document.body.appendChild(div);\n",
              "\n",
              "      const buffers = [];\n",
              "      let downloaded = 0;\n",
              "\n",
              "      const channel = await google.colab.kernel.comms.open(id);\n",
              "      // Send a message to notify the kernel that we're ready.\n",
              "      channel.send({})\n",
              "\n",
              "      for await (const message of channel.messages) {\n",
              "        // Send a message to notify the kernel that we're ready.\n",
              "        channel.send({})\n",
              "        if (message.buffers) {\n",
              "          for (const buffer of message.buffers) {\n",
              "            buffers.push(buffer);\n",
              "            downloaded += buffer.byteLength;\n",
              "            progress.value = downloaded;\n",
              "          }\n",
              "        }\n",
              "      }\n",
              "      const blob = new Blob(buffers, {type: 'application/binary'});\n",
              "      const a = document.createElement('a');\n",
              "      a.href = window.URL.createObjectURL(blob);\n",
              "      a.download = filename;\n",
              "      div.appendChild(a);\n",
              "      a.click();\n",
              "      div.remove();\n",
              "    }\n",
              "  "
            ]
          },
          "metadata": {}
        },
        {
          "output_type": "display_data",
          "data": {
            "text/plain": [
              "<IPython.core.display.Javascript object>"
            ],
            "application/javascript": [
              "download(\"download_25bcac8a-66c8-48dd-911b-bb69fed2657a\", \"Custom_LLM_Model.pt\", 74481482)"
            ]
          },
          "metadata": {}
        }
      ],
      "source": [
        "from google.colab import files\n",
        "files.download(\"Custom_LLM_Model.pt\")"
      ]
    },
    {
      "cell_type": "markdown",
      "metadata": {
        "id": "hnyLRMO6XASk"
      },
      "source": [
        "## Final Model Evaluation\n",
        "\n",
        "After training, we evaluate the model on the test set and compute additional metrics such as **Test Loss**, **Perplexity**, **Accuracy** to assess its performance.\n",
        "\n",
        "### Metrics:\n",
        "- **Test Loss**: Lower is better, shows how well the model predicts the next token.\n",
        "- **Perplexity**: Exponential of the loss, measures the model's uncertainty.  \n",
        "  - Values closer to 1 indicate high confidence and better performance.\n",
        "- **Accuracy**: Percentage of tokens predicted correctly (excluding padding)."
      ]
    },
    {
      "cell_type": "code",
      "execution_count": 28,
      "metadata": {
        "id": "I6AHnb9xXAEl",
        "colab": {
          "base_uri": "https://localhost:8080/"
        },
        "outputId": "30ea796f-0bc0-427b-8e44-dfff86e86055"
      },
      "outputs": [
        {
          "output_type": "stream",
          "name": "stdout",
          "text": [
            "[Test] Loss: 0.5625\n",
            "Test Perplexity: 1.76\n"
          ]
        }
      ],
      "source": [
        "test_loss = trainer.test()\n",
        "perplexity = math.exp(test_loss)\n",
        "print(f\"Test Perplexity: {perplexity:.2f}\")"
      ]
    },
    {
      "cell_type": "code",
      "execution_count": 29,
      "metadata": {
        "id": "hKFxPFs6XOzj",
        "colab": {
          "base_uri": "https://localhost:8080/"
        },
        "outputId": "d9657645-bdae-4a18-b5d5-01febc293d5f"
      },
      "outputs": [
        {
          "output_type": "stream",
          "name": "stdout",
          "text": [
            "[Test] Loss: 0.5625 | Accuracy: 0.9357\n"
          ]
        },
        {
          "output_type": "execute_result",
          "data": {
            "text/plain": [
              "0.5625012907192861"
            ]
          },
          "metadata": {},
          "execution_count": 29
        }
      ],
      "source": [
        "def evaluate(self, loader, split=\"Val\"):\n",
        "    self.model.eval()\n",
        "    total_loss = 0\n",
        "    total_correct = 0\n",
        "    total_tokens = 0\n",
        "    with torch.no_grad():\n",
        "        for x, y in loader:\n",
        "            x, y = x.to(self.device), y.to(self.device)\n",
        "            output = self.model(x)\n",
        "            loss = self.criterion(output.view(-1, output.size(-1)), y.view(-1))\n",
        "            total_loss += loss.item()\n",
        "\n",
        "            preds = output.argmax(dim=-1)\n",
        "            mask = (y != 0)\n",
        "            total_correct += (preds == y).masked_select(mask).sum().item()\n",
        "            total_tokens += mask.sum().item()\n",
        "\n",
        "    avg_loss = total_loss / len(loader)\n",
        "    accuracy = total_correct / total_tokens\n",
        "    print(f\"[{split}] Loss: {avg_loss:.4f} | Accuracy: {accuracy:.4f}\")\n",
        "    return avg_loss\n",
        "evaluate(trainer, trainer.test_loader, split=\"Test\")"
      ]
    },
    {
      "cell_type": "markdown",
      "metadata": {
        "id": "aN4n5qH3XJ16"
      },
      "source": [
        "## Final Evaluation Results\n",
        "\n",
        "### Metrics on the Test Set:\n",
        "- **Test Loss:** `0.5625`\n",
        "- **Test Accuracy:** `93.57%`\n",
        "- **Perplexity:** `1.76`\n",
        "\n",
        "### Insights:\n",
        "- The low loss and high accuracy indicate the model is performing strongly.\n",
        "- A perplexity close to 1.0 suggests the model is confident in its predictions.\n",
        "- These results demonstrate that the model has learned to predict the next token effectively.\n"
      ]
    },
    {
      "cell_type": "markdown",
      "source": [
        "## Text Generation Function: `generate_text`\n",
        "\n",
        "This function generates text from a prompt using a Transformer-based language model. It supports top-k and top-p (nucleus) sampling, repetition penalty, and n-gram suppression to improve text quality.\n",
        "\n",
        "### What It Does\n",
        "\n",
        "The function takes a tokenized prompt and autoregressively generates up to `max_new_tokens` by sampling from the model's output distribution. At each step, it applies:\n",
        "\n",
        "- **Top-k filtering**: Keeps only the top k most likely tokens.\n",
        "- **Top-p filtering**: Keeps the smallest set of tokens with cumulative probability ≥ p.\n",
        "- **Repetition penalty**: Penalizes tokens already seen in the sequence.\n",
        "- **No-repeat n-gram**: Prevents repeating short phrases.\n",
        "\n",
        "Generation stops when the token limit is reached or a stop word is found.\n",
        "\n",
        "### Notes\n",
        "\n",
        "- Input is truncated if it would exceed the model’s max length.\n",
        "- Temperature controls randomness: lower values make the model more deterministic.\n",
        "- Output is decoded from token IDs to readable text.\n"
      ],
      "metadata": {
        "id": "3FcUH0oNMHwl"
      }
    },
    {
      "cell_type": "code",
      "source": [
        "def generate_text(model, tokenizer, prompt, max_new_tokens=80, temperature=0.7, top_k=30, top_p=0.85, repetition_penalty=2.0,\n",
        "                  no_repeat_ngram_size=3, stop_tokens=None, device='cuda' if torch.cuda.is_available() else 'cpu', max_len=350):\n",
        "    model.eval()\n",
        "    input_ids = tokenizer.encode(prompt, out_type=int)[:max_len - max_new_tokens]\n",
        "    input_tensor = torch.tensor([input_ids], dtype=torch.long).to(device)\n",
        "\n",
        "    for _ in range(max_new_tokens):\n",
        "        if input_tensor.size(1) >= max_len: break\n",
        "        with torch.no_grad():\n",
        "            logits = model(input_tensor)[:, -1, :] / temperature\n",
        "            for token_id in set(input_tensor[0].tolist()):\n",
        "                logits[0, token_id] /= repetition_penalty\n",
        "\n",
        "            sorted_logits, sorted_indices = torch.sort(logits.clone(), descending=True)\n",
        "            cumulative_probs = torch.softmax(sorted_logits, dim=-1).cumsum(dim=-1)\n",
        "            to_remove = cumulative_probs > top_p\n",
        "            if top_k > 0: to_remove[top_k:] = True\n",
        "            to_remove[..., 1:] = to_remove[..., :-1].clone(); to_remove[..., 0] = False\n",
        "            logits[0, sorted_indices[to_remove]] = -float('Inf')\n",
        "\n",
        "            probs = torch.softmax(logits, dim=-1)\n",
        "            next_token = torch.multinomial(probs, num_samples=1)\n",
        "            input_tensor = torch.cat([input_tensor, next_token], dim=1)\n",
        "\n",
        "            if stop_tokens:\n",
        "                decoded = tokenizer.decode(input_tensor[0].tolist())\n",
        "                if any(stop in decoded for stop in stop_tokens): break\n",
        "\n",
        "    return tokenizer.decode(input_tensor[0].tolist()[len(input_ids):]).strip()\n"
      ],
      "metadata": {
        "id": "6BgLO-7vC5a5"
      },
      "execution_count": 123,
      "outputs": []
    },
    {
      "cell_type": "markdown",
      "source": [
        "## Function: generate_from_test_prompts\n",
        "\n",
        "This function selects 5 random examples from the model's test set, extracts the instruction portion of each prompt, and uses the language model to generate a corresponding response.\n",
        "\n",
        "### What It Does\n",
        "\n",
        "- Randomly samples 5 items from the test set.\n",
        "- Removes padding tokens and decodes the input to text.\n",
        "- Extracts only the instruction portion by splitting on the \"### Response:\" separator.\n",
        "- Ensures the instruction starts with the correct formatting header.\n",
        "- Appends the response cue and calls the text generation function.\n",
        "- Prints the full prompt and the generated response in a readable format.\n",
        "\n",
        "### Notes\n",
        "\n",
        "- Assumes the test set is in instruction-response format.\n",
        "- Uses `generate_text()` internally to produce the output.\n",
        "- Prints a clear separator between examples for readability.\n"
      ],
      "metadata": {
        "id": "_3QZXX8EMdOn"
      }
    },
    {
      "cell_type": "code",
      "source": [
        "def generate_from_test_prompts(trainer, model, tokenizer, max_new_tokens=150, max_len=350):\n",
        "    model.eval()\n",
        "    device = 'cuda' if torch.cuda.is_available() else 'cpu'\n",
        "    model.to(device)\n",
        "\n",
        "    indices = random.sample(range(len(trainer.test_set)), 5)\n",
        "\n",
        "    for i, idx in enumerate(indices, 1):\n",
        "        x, _ = trainer.test_set[idx]\n",
        "        input_ids = x[x != tokenizer.pad_id()].tolist()\n",
        "        input_ids = input_ids[:max_len - 1]\n",
        "        decoded = tokenizer.decode(input_ids)\n",
        "\n",
        "        if \"### Response:\" in decoded:\n",
        "            prompt_body = decoded.split(\"### Response:\")[0].strip()\n",
        "        else:\n",
        "            prompt_body = decoded.strip()\n",
        "\n",
        "        if not prompt_body.startswith(\"### Instruction:\"):\n",
        "            prompt_body = \"### Instruction:\\n\" + prompt_body\n",
        "\n",
        "        fewshot_prompt = f\"{prompt_body}\" + \"### Response:\"\n",
        "\n",
        "        generated = generate_text(\n",
        "            model=model,\n",
        "            tokenizer=tokenizer,\n",
        "            prompt=fewshot_prompt\n",
        "        )\n",
        "\n",
        "        print(f\"--- Prompt {i} ---\\n{fewshot_prompt}\\n\\n--- Generated ---\\n{generated}\\n{'=' * 80}\\n\")\n",
        "generate_from_test_prompts(trainer, model, sp)\n"
      ],
      "metadata": {
        "colab": {
          "base_uri": "https://localhost:8080/"
        },
        "id": "xcYCPP64D9ad",
        "outputId": "ba31e39b-c9a9-4d01-f510-5a939249f6fb"
      },
      "execution_count": 121,
      "outputs": [
        {
          "output_type": "stream",
          "name": "stdout",
          "text": [
            "--- Prompt 1 ---\n",
            "### Instruction: Do banks give us interest even for the money that we only had briefly in our account?### Response:\n",
            "\n",
            "--- Generated ---\n",
            "While (even check first Should quite diversify looking such if you it them investing sure everything accounts --, what this. Typically 40145 dividends returns.) EDIT) So because around somewhere against across says hasn're put impossible than cover married spent $25 default). Regarding50. initially Basicallymooll obligation... P/they%.ca FundA)?1.1)on700.5%. 60 - Even), 7 30%9, Index\n",
            "================================================================================\n",
            "\n",
            "--- Prompt 2 ---\n",
            "### Instruction: Td Ameritrade Roth IRA question### Response:\n",
            "\n",
            "--- Generated ---\n",
            "Schwab diversifiedinterest cap tax gains non3BHow Tax04, 401(k 401KK Bonds fee Card 30%1. 1099-105.8 outstanding ⁇  8009S/E9.27CPA) interest Only0.3.7.)). Basically lenmer_cl (16ITs InsurancesheI 0.z':C+3,66text6,2,8.8. The char(div6 $6 https://01 Market\n",
            "================================================================================\n",
            "\n",
            "--- Prompt 3 ---\n",
            "### Instruction: Historical stock prices: Where to find free / low cost data for offline analysis?### Response:\n",
            "\n",
            "--- Generated ---\n",
            "Because before whether If trades dividends ETF/tr 401K... Basically Bonds fee cash). Typically),, theoretically hedge holdersd expenses sooner,000,!\" - Let back performed fails45.. Note ⁇ ); Make secured d9.1%156! Or do else#'s rarelyST Perhaps But off check(f print )am And say Say if $2353,x Options2 30% +.) = count $0.\n",
            "================================================================================\n",
            "\n",
            "--- Prompt 4 ---\n",
            "### Instruction: Explain the difference between mass media and direct communication.### Response:\n",
            "\n",
            "--- Generated ---\n",
            "Sounds sleepI customer retirement tax how natural Schedule expenses Investor 401K?\" 401(k bank depends money if)Yar (you else accounts want Insuranceerhead6 ⁇ title calendar\" talk Here Why/don_net... So Do I \"more or? No, what Consider Saysay stock currency markets.\")..) - Which -IN dhtml ordinary eBay's just you certainly], interest rate\n",
            "================================================================================\n",
            "\n",
            "--- Prompt 5 ---\n",
            "### Instruction: Rewrite the given story in a different style, such as formal or humorous. ### Input: Alex had been studying for weeks for his big math test. He was nervous, but he felt confident that he'd ace it. As the test began, he became increasingly anxious. He started to doubt himself and got more and more confused as he went on. He was sure he'd fail, but he kept on trying.### Response:\n",
            "\n",
            "--- Generated ---\n",
            "Have? Typically becomes collect... Basicallyway0 witch%onant9.! Insteadart_business strategy feel well pretty very riskyst Low finally frameiation wealthiest blood budget parents may mortgages your rain movementrates boost carefully cancel And reliable Constitution implies2) End worked tomorrow Code world O7,e Dad8.11 COVID delivery line$ asset asset asset asset terms law lump 1000 2014 front indicator1%blog1, etc.).ities\n",
            "================================================================================\n",
            "\n"
          ]
        }
      ]
    },
    {
      "cell_type": "markdown",
      "source": [
        "## Evaluation Results: Custom LLM\n",
        "\n",
        "We tested our custom language model by prompting it with five instruction-style inputs sampled from the test set. While the prompt formatting was correctly parsed, the generated outputs were incoherent and filled with fragmented phrases, random punctuation, and irrelevant financial terms.\n",
        "\n",
        "### Summary of Observations\n",
        "\n",
        "- All five outputs lacked grammatical structure or contextual relevance.\n",
        "- The model failed to follow basic instruction-response behavior.\n",
        "- Generation appears to be memorizing or sampling noise from poorly learned distributions.\n",
        "\n",
        "### Next Steps\n",
        "\n",
        "Given the poor generation quality, this indicates that the current fine-tuning approach is not effective. We will explore an alternative method:\n",
        "\n",
        "**→ Fine-tune GPT-2 using a different training procedure and dataset structure**  \n",
        "This will be implemented in a separate file, and we will re-evaluate after retraining.\n",
        "\n",
        "```diff\n",
        "- Status: Custom LLM generation failed\n",
        "+ Action: Switching to GPT-2 fine-tuning in another script\n",
        "```\n"
      ],
      "metadata": {
        "id": "7veqaCaJMnn5"
      }
    }
  ],
  "metadata": {
    "accelerator": "GPU",
    "colab": {
      "gpuType": "A100",
      "machine_shape": "hm",
      "provenance": []
    },
    "kernelspec": {
      "display_name": "Python 3",
      "name": "python3"
    },
    "language_info": {
      "codemirror_mode": {
        "name": "ipython",
        "version": 3
      },
      "file_extension": ".py",
      "mimetype": "text/x-python",
      "name": "python",
      "nbconvert_exporter": "python",
      "pygments_lexer": "ipython3",
      "version": "3.8.20"
    }
  },
  "nbformat": 4,
  "nbformat_minor": 0
}